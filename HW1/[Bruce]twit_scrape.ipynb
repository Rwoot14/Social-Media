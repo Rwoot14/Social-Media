{
 "cells": [
  {
   "cell_type": "code",
   "execution_count": 1,
   "metadata": {
    "collapsed": true
   },
   "outputs": [],
   "source": [
    "import tweepy\n",
    "from tweepy import OAuthHandler\n",
    "import pandas as pd\n",
    "import json\n",
    "import pprint\n",
    "import time"
   ]
  },
  {
   "cell_type": "code",
   "execution_count": 2,
   "metadata": {
    "collapsed": false
   },
   "outputs": [],
   "source": [
    "consumer_key = 'RipArnaZgfpTQRhtIQhMtEsTy'\n",
    "consumer_secret = 'ZD1uNeKgT7gR3KG9hVLcjlcjvJIFSVK9z4nXcTJ4sa3XvwVlMY'\n",
    "access_token = '570510531-pXvq1mzoUGkM2xQtTnJE3GSBtRRV4VlqrTww7QBp'\n",
    "access_secret = '37nPOzulSRtEeCrqNzbGsbN1VDRE3rzIuIbWcgz40Gfrz'\n",
    " \n",
    "auth = OAuthHandler(consumer_key, consumer_secret)\n",
    "auth.set_access_token(access_token, access_secret)\n",
    "api = tweepy.API(auth)"
   ]
  },
  {
   "cell_type": "markdown",
   "metadata": {},
   "source": [
    "### Scrape "
   ]
  },
  {
   "cell_type": "code",
   "execution_count": 73,
   "metadata": {
    "collapsed": false,
    "scrolled": false
   },
   "outputs": [],
   "source": [
    "def prepare(name, dic):\n",
    "    return pd.DataFrame(dic.values(), index = dic.keys(), columns=[name]).reset_index()\n",
    "\n",
    "def search():\n",
    "    from_ = []\n",
    "    to_ = []\n",
    "    type_ = []\n",
    "    followers = {}\n",
    "    listed = {}\n",
    "    retweets_count = {}\n",
    "    for tweet in tweepy.Cursor(api.search, q=\"#bitcoin\").items(1000):\n",
    "        #user who tweets\n",
    "        user = tweet._json.get(\"user\").get(\"screen_name\")\n",
    "\n",
    "        #record his/her follower_count, listed_count\n",
    "        followers[user] = tweet._json.get(\"user\").get(\"followers_count\")\n",
    "        listed[user] = tweet._json.get(\"user\").get(\"listed_count\")\n",
    "\n",
    "        #record the tweets' retweet count, used ADDing\n",
    "        if user in retweets_count:\n",
    "            retweets_count[user] = retweets_count[user] + int(tweet._json.get(\"retweet_count\"))\n",
    "        else:\n",
    "            retweets_count[user] = int(tweet._json.get(\"retweet_count\"))\n",
    "\n",
    "        #reply to sb\n",
    "        reply_to = tweet._json.get(\"in_reply_to_screen_name\")\n",
    "        if reply_to:\n",
    "            from_.append(user)\n",
    "            to_.append(reply_to)\n",
    "            type_.append('reply')\n",
    "\n",
    "        #mentions sb\n",
    "        mention_list = tweet._json.get(\"entities\").get(\"user_mentions\")\n",
    "        if len(mention_list)!=0:\n",
    "            for mention in mention_list:\n",
    "                from_.append(user)\n",
    "                to_.append(mention.get(\"screen_name\"))\n",
    "                type_.append('mention')\n",
    "\n",
    "        # RT sb\n",
    "        retweeted = tweet._json.get(\"retweeted_status\")\n",
    "        if retweeted:\n",
    "            from_.append(user)\n",
    "            to_.append(retweeted.get(\"user\").get(\"screen_name\"))\n",
    "            type_.append('RT')\n",
    "\n",
    "            # add the retweeted user's followers_count, listed_count\n",
    "            followers[retweeted.get(\"user\").get(\"screen_name\")] = retweeted.get(\"user\").get(\"followers_count\")\n",
    "            listed[retweeted.get(\"user\").get(\"screen_name\")] = retweeted.get(\"user\").get(\"listed_count\")\n",
    "\n",
    "            # add the original tweet\n",
    "            from_.append(retweeted.get(\"user\").get(\"screen_name\"))\n",
    "            to_.append(retweeted.get(\"user\").get(\"screen_name\"))\n",
    "            type_.append('Tweet')\n",
    "\n",
    "        # No reply, mention or retweet\n",
    "        if (reply_to is None) | (len(mention_list)==0) | (retweeted is None) :\n",
    "            from_.append(user)\n",
    "            to_.append(user)\n",
    "            type_.append('Tweet')\n",
    "    result = pd.DataFrame({'Column1':from_, 'Column2':to_, 'Column3':type_})\n",
    "    result = result.drop_duplicates()\n",
    "    return result, prepare('follwers', followers), prepare('listed_count', listed), prepare('retweets', retweets_count)"
   ]
  },
  {
   "cell_type": "code",
   "execution_count": null,
   "metadata": {
    "collapsed": true
   },
   "outputs": [],
   "source": [
    "tweets = []\n",
    "f = []\n",
    "l = []\n",
    "r = []"
   ]
  },
  {
   "cell_type": "code",
   "execution_count": 78,
   "metadata": {
    "collapsed": false
   },
   "outputs": [
    {
     "name": "stdout",
     "output_type": "stream",
     "text": [
      "sleeping\n",
      "wake up\n",
      "sleeping\n",
      "wake up\n",
      "sleeping\n",
      "wake up\n",
      "sleeping\n",
      "wake up\n",
      "sleeping\n",
      "wake up\n"
     ]
    }
   ],
   "source": [
    "# The twitter API has limit on queries in a 15-min window. I put the program to sleep when scraping every 1000 tweets\n",
    "for i in range(5):\n",
    "    result, follower_count, listed_count, retweets_count = search()\n",
    "    tweets.append(result)\n",
    "    f.append(follower_count)\n",
    "    l.append(listed_count)\n",
    "    r.append(retweets_count)\n",
    "    print('sleeping')\n",
    "    time.sleep(60*10)\n",
    "    print('wake up')"
   ]
  },
  {
   "cell_type": "code",
   "execution_count": 93,
   "metadata": {
    "collapsed": false
   },
   "outputs": [],
   "source": [
    "t = tweets[0]\n",
    "f_ = f[0]\n",
    "l_ = l[0]\n",
    "r_ = r[0]\n",
    "for i in range(1,6):\n",
    "    t = t.append(tweets[i])\n",
    "    f_ = f_.append(f[i])\n",
    "    l_ = l_.append(l[i])\n",
    "    r_ = r_.append(r[i])"
   ]
  },
  {
   "cell_type": "code",
   "execution_count": 90,
   "metadata": {
    "collapsed": false
   },
   "outputs": [],
   "source": [
    "t.drop_duplicates().to_csv(\"tweets_new.csv\")\n",
    "f_.to_csv('followers.csv')\n",
    "l_.to_csv('linked.csv')\n",
    "r_.to_csv('retweets.csv')"
   ]
  }
 ],
 "metadata": {
  "kernelspec": {
   "display_name": "Python 2",
   "language": "python",
   "name": "python2"
  },
  "language_info": {
   "codemirror_mode": {
    "name": "ipython",
    "version": 2
   },
   "file_extension": ".py",
   "mimetype": "text/x-python",
   "name": "python",
   "nbconvert_exporter": "python",
   "pygments_lexer": "ipython2",
   "version": "2.7.13"
  }
 },
 "nbformat": 4,
 "nbformat_minor": 2
}
